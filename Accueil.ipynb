{
 "cells": [
  {
   "cell_type": "markdown",
   "metadata": {},
   "source": [
    "# ISN : Le Son\n",
    "Killian CALLAC\n",
    "\n",
    "## Présentation\n",
    "Bienvenue sur le notebook principal de mon projet en ISN, portant sur le son.\n",
    "Vous y trouverez les différents liens vers des notebooks secondaires (recherches sur le son, programmes lié au son).\n",
    "\n",
    "## Recherches sur le son\n",
    "### Qu'est-ce que c'est ?\n",
    "Il s'agit de notebooks Jupyter présentant les différentes recherches que j'ai faites dans le cadre de l'ISN sur le son. Vous y trouverez des informations sur les propriétés du son, son codage, les théories mathématiques autour du signal sonore.\n",
    "\n",
    "\n",
    "* Recherches &laquo;brutes&raquo; sur le son (niveau **AVANCÉ**) : [Cliquez ici](/son/sonISN.ipynb)\n",
    "* Définition physique du son (niveau **SIMPLE**) : [Cliquez ici](son/son-definition-physique.ipynb)\n",
    "* Le son numérique (format WAV) (niveau **INTERMEDIAIRE**) : [Cliquez ici](son/son-numerique-wav.ipynb)\n",
    "* Synthétisation sonore : son simples, complexes, séries Fourier (niveau **AVANCÉ**) : [Cliquez ici](son/son-synthetisation.ipynb)\n",
    "\n",
    "\n",
    "## Programme de synthétisation\n",
    "Je projette de créer un programme de synthétisation sonore, dans un notebook Jupyter, dans un dépôt GitHub à part. Vous pouvez suivre l'avancement ici (niveau **AVANCÉ**):\n",
    "* Dépôt du projet : https://github.com/Killian2001/SyntheSon\n",
    "* Notebook du projet : https://github.com/Killian2001/SyntheSon/blob/master/Synth%C3%A9Son.ipynb\n",
    "\n",
    "***\n",
    "\n",
    "***NOTE IMPORTANTE : les programmes présents dans les notebooks sont susceptibles de ne pas fonctionner sur GitHub (programmes ipywidgets). Il est également possible qu'il y ait quelques problèmes d'affichage (problème de saut de ligne LaTeX, pas d'images) Si vous voulez bénéficer d'un confort de lecture optimal, cliquez sur les liens suivants pour télécharger les dépôts sur votre espace Jupyter :***\n",
    "\n",
    "* sonISN : http://jupyterhub.ecmorlaix.bzh:8092/hub/user-redirect/git-pull?repo=https%3A%2F%2Fgithub.com%2FKillian2001%2FsonISN&branch=jupyter-version&subPath=Accueil.ipynb&app=notebook\n",
    "* SynthéSon : http://jupyterhub.ecmorlaix.bzh:8092/hub/user-redirect/git-pull?repo=https%3A%2F%2Fgithub.com%2FKillian2001%2FSyntheSon&branch=master&subPath=SynthéSon.ipynb&app=notebook\n",
    "\n",
    "***\n",
    "Machines virtuelles Binder :"
   ]
  },
  {
   "cell_type": "code",
   "execution_count": null,
   "metadata": {
    "collapsed": true
   },
   "outputs": [],
   "source": []
  }
 ],
 "metadata": {
  "kernelspec": {
   "display_name": "Python 3",
   "language": "python",
   "name": "python3"
  },
  "language_info": {
   "codemirror_mode": {
    "name": "ipython",
    "version": 3
   },
   "file_extension": ".py",
   "mimetype": "text/x-python",
   "name": "python",
   "nbconvert_exporter": "python",
   "pygments_lexer": "ipython3",
   "version": "3.6.0"
  }
 },
 "nbformat": 4,
 "nbformat_minor": 2
}
