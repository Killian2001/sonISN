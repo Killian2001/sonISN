{
 "cells": [
  {
   "cell_type": "markdown",
   "metadata": {},
   "source": [
    "# Synthétisation sonore\n",
    "## Présentation\n",
    "### But de l'application\n",
    "Application de synthétisation sonore. Permettera de synthétiser des sons complexes et de les exporter au format WAV.\n",
    "\n",
    "### Architecture\n",
    "#### Architecture MVC\n",
    "L'application sera construite selon l'architecture MVC, qui divise le programme en 3 parties :\n",
    "* Le modèle : il stocke toutes les données nécessaire au programme.\n",
    "* La vue : il s'agit de la partie du programme qui est chargée de l'affichage des données à l'utilisateur (une fenêtre par exemple).\n",
    "* Le contrôleur : il sert de &laquo;pont&raquo; entre la vue et le modèle : toute information rentrée par l'utilisateur *via* la vue verra sa validité vérifiée par le contrôleur : si l'information est valide, le modèle est alors modifié, et le modèle informe la vue, qui se met alors à jour."
   ]
  },
  {
   "cell_type": "markdown",
   "metadata": {},
   "source": [
    "## Application\n",
    "\n",
    "### Contrôle des types\n",
    "Fonctions permettant de contrôler les types de données passés en paramètres."
   ]
  },
  {
   "cell_type": "code",
   "execution_count": 9,
   "metadata": {},
   "outputs": [],
   "source": [
    "def verifParamType(pName, waitType, pValue):\n",
    "    \"\"\"Contrôle le type d'un paramètre pName de valeur pValue, en vérifiant s'il s'agit\n",
    "    du même type que waitType ou si il en est dérivé.\n",
    "    Paramètre :\n",
    "        - pName (str) : nom du paramètre.\n",
    "        - waitType (type) : type de donnée attendu.\n",
    "        - pValue : valeur attendue.\n",
    "    Exceptions :\n",
    "        - TypeError : si les types de pName, waitType ou pValue ne sont pas les bons, \n",
    "        ou si le type de pValue ne correspond pas et n'est pas dérivé du type de pName.\"\"\"\n",
    "    \n",
    "    def raiseTypeError(pName, pType, wType):# Fonction facilitant la levée de la TypeError.\n",
    "        raise TypeError('Paramètre {0} de type {1}, type {2} attendu', pName, pType, wType)\n",
    "        \n",
    "    # Contrôle type paramètres.\n",
    "    pNType, wTType, pVType = type(pName), type(waitType), type(pValue)\n",
    "    if not pNType == str:\n",
    "        raiseTypeError('[verifParamType] pName', pNType, str)\n",
    "    if not wTType == type:\n",
    "        raiseTypeError('[verifParamType] waitType', wType, type)\n",
    "        \n",
    "    # Contrôle type valeur.\n",
    "    if not issubclass(pVType, waitType):\n",
    "        raise TypeError(pName, pVType, waitType)"
   ]
  },
  {
   "cell_type": "markdown",
   "metadata": {},
   "source": [
    "### Classes de bases\n",
    "#### Harmoniques\n",
    "Classe définissant un harmonique, avec son amplitude, sa fréquence et son décalage temporel."
   ]
  },
  {
   "cell_type": "code",
   "execution_count": 2,
   "metadata": {},
   "outputs": [],
   "source": [
    "class Harmonic:\n",
    "    \"\"\"Classe représentant un harmonique.\n",
    "    Un harmonique est défini par une amplitude, une fréquence et un décalage temporel.\"\"\"\n",
    "    \n",
    "    def __init__(self, amp, freq, shift):\n",
    "        \"\"\"Constructeur de la classe.\n",
    "        Paramètres :\n",
    "            - amp (float) : amplitude de l'harmonique.\n",
    "            - freq (float) : fréquence de l'harmonique.\n",
    "            - shift (float) : décalage temporel de l'harmonique.\"\"\"\n",
    "        self.amp = amp\n",
    "        self.freq = freq\n",
    "        self.shift = shift\n",
    "        \n",
    "    # ---- Accesseurs ----\n",
    "    \n",
    "    def _get_amp(self):\n",
    "        \"\"\"Accesseur de la propriété amp.\n",
    "        Retourne l'amplitude (float) de l'harmonique.\"\"\"\n",
    "        return self._amp\n",
    "    \n",
    "    def _get_freq(self):\n",
    "        \"\"\"Accesseur de la propriété freq.\n",
    "        Retourne la fréquence (float) de l'harmonique.\"\"\"\n",
    "        return self._freq\n",
    "    \n",
    "    def _get_shift(self):\n",
    "        \"\"\"Accesseur de la propriété shift.\n",
    "        Retourne le décalage temporel(float) de l'harmonique.\"\"\"\n",
    "        return self._shift\n",
    "    \n",
    "    # ---- Mutateurs ----\n",
    "    \n",
    "    def _set_amp(self, amp):\n",
    "        \"\"\"Mutateur de la propriété amp.\n",
    "        Modifie l'amplitude de l'harmonique.\n",
    "        Paramètres :\n",
    "            - amp (float) : nouvelle amplitude de l'harmonique.\"\"\"\n",
    "        verifParamType('amp', float, amp)\n",
    "        self._amp = amp\n",
    "        \n",
    "    def _set_freq(self, freq):\n",
    "        \"\"\"Mutateur de la propriété freq.\n",
    "        Modifie la fréquence de l'harmonique.\n",
    "        Paramètres :\n",
    "            - freq (float) : nouvelle fréquence de l'harmonique.\"\"\"\n",
    "        verifParamType('freq', float, freq)\n",
    "        self._freq = freq\n",
    "        \n",
    "    def _set_shift(self, shift):\n",
    "        \"\"\"Mutateur de la propriété shift.\n",
    "        Modifie le décalage temporel de l'harmonique.\n",
    "        Paramètres :\n",
    "            - shift (float) : nouveau décalage temporel de l'harmonique.\"\"\"\n",
    "        verifParamType('shift', float, shift)\n",
    "        self._shift = shift\n",
    "        \n",
    "    # ---- Propriétés ----\n",
    "    \n",
    "    amp = property(_get_amp, _set_amp)\n",
    "    freq = property(_get_freq, _set_freq)\n",
    "    shift = property(_get_shift, _set_shift)"
   ]
  },
  {
   "cell_type": "code",
   "execution_count": null,
   "metadata": {},
   "outputs": [],
   "source": []
  }
 ],
 "metadata": {
  "kernelspec": {
   "display_name": "Python 3",
   "language": "python",
   "name": "python3"
  },
  "language_info": {
   "codemirror_mode": {
    "name": "ipython",
    "version": 3
   },
   "file_extension": ".py",
   "mimetype": "text/x-python",
   "name": "python",
   "nbconvert_exporter": "python",
   "pygments_lexer": "ipython3",
   "version": "3.6.5"
  }
 },
 "nbformat": 4,
 "nbformat_minor": 2
}
