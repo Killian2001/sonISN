{
 "cells": [
  {
   "cell_type": "markdown",
   "metadata": {},
   "source": [
    "# Qu'est-ce que le son ?\n",
    "## 1. Définition physique du son\n",
    "Le son est une vibration liée à la propagation d'une onde dans un milieu fluide (gaz, liquide...). Il s'agit d'une onde **mécanique** à **3 dimensions** (qui se propage dans un espace tridimentionnel), **longitudinale** (dont le sens de propagation est perpendiculaire au sens de la déformation causée par l'onde). L'onde sonore est en fait une variation brève de la pression dans un milieu fluide.\n",
    "\n",
    "Les propriétés du son varient en fonction du milieu dans lequel il se trouve, de la température, de la pression...\n",
    "\n",
    "### Intensité sonore, niveau sonore.\n",
    "\n",
    "Le son est une onde mécanique, transportant donc une certaine énergie. C'est une onde à trois dimensions, évoluant donc dans un espace en trois dimensions. Cependant, pour capter une onde sonore, on utilise une membrane qui vibrera en conséquence : c'est ainsi que l'on peut définir l'intensité sonore d'un son, grandeur énergétique dépendant d'une surface, notée $I$, exprimée en W∙m<sup>-2</sup>, comme étant la puissance $P$ en W reçue d'un son par 1 m<sup>2</sup> d'une surface d'aire $S$. L'intensité sonore est donc donnée par la relation :\n",
    "$$I = \\frac{P}{S}$$"
   ]
  },
  {
   "cell_type": "markdown",
   "metadata": {},
   "source": [
    "Le niveau sonore, quand à lui, est une mesure exprimée en dB (décibels), unité sans grandeur. Le niveau sonore suit une échelle basée sur le fonctionnement de l'oreille humaine, permettant par exemple de détérminer facilement à partir de quand un son devient dangereux pour l'oreille humaine. Noté $L$, il est calculé selon la formule :\n",
    "$$L = 10 \\times \\log_{10}\\left(\\frac{I}{I_0}\\right)$$ avec $I$ intensité sonore du son W∙m<sup>-2</sup> et $I_0=1.0\\times10^{-12} W \\cdot m^{-2}$, plus petite intensité sonore audible par l'oreille."
   ]
  },
  {
   "cell_type": "code",
   "execution_count": null,
   "metadata": {},
   "outputs": [],
   "source": []
  }
 ],
 "metadata": {
  "kernelspec": {
   "display_name": "Python 3",
   "language": "python",
   "name": "python3"
  },
  "language_info": {
   "codemirror_mode": {
    "name": "ipython",
    "version": 3
   },
   "file_extension": ".py",
   "mimetype": "text/x-python",
   "name": "python",
   "nbconvert_exporter": "python",
   "pygments_lexer": "ipython3",
   "version": "3.6.5"
  }
 },
 "nbformat": 4,
 "nbformat_minor": 2
}
