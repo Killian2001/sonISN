{
 "cells": [
  {
   "cell_type": "markdown",
   "metadata": {},
   "source": [
    "# ISN : Le Son\n",
    "\n",
    "## Sommaire\n",
    "1. Définition physique du son\n",
    "2. Le son numérique : format non compressé WAV.\n",
    "3. Synthétisation d'un son"
   ]
  },
  {
   "cell_type": "markdown",
   "metadata": {},
   "source": [
    "## 1. Définition physique du son\n",
    "Le son est une vibration liée à la propagation d'une onde dans un milieu fluide (gaz, liquide...). Il s'agit d'une onde **mécanique** à **3 dimensions** (qui se propage dans un espace tridimentionnel), **longitudinale** (dont le sens de propagation est perpendiculaire au sens de la déformation causée par l'onde). L'onde sonore est en fait une variation brève de la pression dans un milieu fluide.\n",
    "\n",
    "En fonction des différentes propriétés des milieux dans lequel le son se diffuse, la transmission du son est plus ou moins altérée. Par exemple, la vitesse du son sera altérée en fonction du milieu, suivant la relation :\n",
    "$$c = \\frac{1}{\\rho\\chi_s}$$\n",
    "Avec $\\rho$, masse volumique du milieu en g∙L<sup>-1</sup>, et $\\chi_s$, coefficient de compressibilité isentropique.\n",
    "D'autres valeurs physiques peuvent cependant varier.\n",
    "\n",
    "### Intensité sonore, niveau sonore.\n",
    "Le son est une onde mécanique, qui transmet donc une certaie énergie. Il convient donc de caractériser cette énergie.\n",
    "Une onde sonore est une onde à trois dimensions, qui est cependant captée sur un récépteur utilisant une membrane plane : on peut donc caractériser une grandeur énergétique à partir du son en fonction d'une surface.\n",
    "C'est ainsi que l'on peut définir **l'intensité sonore** d'un son, notée $I$, exprimée en W∙m<sup>-2</sup>, comme étant la puissance reçue d'un son par une surface de 1 m<sup>2</sup>, donnée par la relation :\n",
    "$$I = \\frac{P}{S}$$ avec $P$ puissance énergétique fourni par le son, exprimée en W, et $S$ aire de la surface récéptrice, en m<sup>2</sup>.\n",
    "\n",
    "Le niveau sonore, quand à lui, est une mesure exprimée en dB (décibels), unité sans grandeur. Le niveau sonore suit une échelle basée sur le fonctionnement de l'oreille humaine, permettant par exemple de détérminer facilement à partir de quand un son devient dangereux pour l'oreille humaine. Noté $L$, il est calculé selon la formule :\n",
    "$$L = 10 \\times \\log_{10}\\left(\\frac{I}{I_0}\\right)$$ avec $I$ intensité sonore du son W∙m<sup>-2</sup> et $I_0=1.0\\times10^{-12} W \\cdot m^{-2}$, plus petite intensité sonore audible par l'oreille.\n",
    "\n",
    "*À développer*"
   ]
  },
  {
   "cell_type": "markdown",
   "metadata": {},
   "source": [
    "## Le son numérique : format non compressé WAV.\n",
    "\n",
    "### Comment code-t-on un son ?\n",
    "\n",
    "Les sons sont caractérisés par des grandeurs physiques, qui sont des valeurs comprises dans des intervalles non discrets (infinité de valeurs dans cet intervalle). Or un ordinateur fonctionne avec des valeurs numériques, qui sont elles comprises dans des intervalles discrets (intervalle avec un nombre de valeurs discret). Il faut donc convertir les sons enregistrés, qui sont analogiques, en sons numériques : on doit donc avoir recours à la Conversion Analogique-Numérique, abrégé **CAN** (en anglais **ANC**).\n",
    "\n",
    "Ce moyen de conversion est basé sur les travaux de l'ingénieur et mathématicien Claude Elwood Shannon (1916-2001). Ce mathématicien a tout simplement défini, dans son article *A Mathematical Theory of Communication* (&laquo;Une théorie mathématique de la communication.&raquo;). Il y introduit notamment la notion de *bit* (*Binary Digit*, &laquo;chiffre binaire&raquo;), brique de base du codage de l'information, une valeur numérique pouvant prendre deux états : 0 ou 1. Ainsi, on prendra 1 bit pour une information prenant deux états, 2 bits pour un information pouvant prendre 4 états...\n",
    "\n",
    "Le codage se fait sur un certain nombre de bits, en général des puissances de 2 : 8 bits, 16 bits, 32 bits...\n",
    "\n",
    "Ainsi, un signal analogique codé sur $n$ bits pourra avoir $2^n$ valeurs différentes.\n",
    "\n",
    "En général, les signaux sont stockés sur $n$ bits dit &laquo;non signés&raquo; : dans ce cas les valeurs des signaux sont toujours positives et sont comprises dans l'intervalle d'entiers $[0; 2^n[$.\n",
    "\n",
    "Dans le cas d'un son, le signal codé correspond à une impulsion éléctrique envoyé par le micro à l'enregistrement, ou à une impulsion éléctrique envoyé au matériel audio (enceinte par exemple). Cette impulsion pourra donc prendre, pour un son codé sur $n$ bits, $2^n$ niveaux différents. Ainsi, un son 8 bits proposera des impulsions de $2^8 = 256$ niveaux.\n",
    "\n",
    "Cependant, un son numérique ne peut se réduire qu'à un niveau éléctrique : il s'agit d'une suite d'impulsions éléctriques, évoluant à travers le temps. Il faut donc établir la fréquence d'envoi des impulsions éléctriques : on parle d'**échantillonage** du son, exprimé en Hz. Un son ayant un échantillonage $e$ Hz fournira $e$ impulsions éléctriques par seconde. Un échantillonage courant est l'échantillonage de 44100 Hz : il y aura donc 44100 impulsions éléctriques par secondes qui seront fournies par le son."
   ]
  },
  {
   "cell_type": "markdown",
   "metadata": {},
   "source": [
    "### Son non-compressé et compressé : quelle différence ?\n",
    "\n",
    "La technique de stockage que l'on vient de voir précédemment correspond à celle du son non-compressé : le son enregistré est lu par l'ordinateur et est restitué tel quel.\n",
    "\n",
    "Cependant, le stockage d'autant de données peut prendre beaucoup de place, surtout si le son est codé sur un grand nombre de bits.\n",
    "\n",
    "C'est pour quoi on a mis au point ce qu'on appelle le son compressé. Nous ne rentrerons pas dans les détails de cette technique, mais elle consiste à coder le son de façon à ce qu'il soit moins lourd, ehn &laquo;abrégeant&raquo; certaines parties du son. À la lecture, un logiciel adapté &laquo;décompressera&raquo; le son afin de le rendre lisible par l'ordinateur. L'inconvénient de cette technique est que la qualité du son peut être altérée, si la compression est dite &laquo;irréversible&raquo;, car il y aura des pertes de données, sinon on dira que la compression est &laquo;réversible&raquo;.\n",
    "\n",
    "Cette technique demande aussi plus de calcul à l'ordinateur pour lire le son, à cause de la décompression. Cela cette charge de calcul supplémentaire peut être embêtante dans certain cas, comme le jeu vidéo, qui demande déjà des calculs complexes à l'ordinateur (lumière, modèles 3D, physique, affichage graphique...)."
   ]
  },
  {
   "cell_type": "markdown",
   "metadata": {},
   "source": [
    "### Le format WAV et la norme RIFF\n",
    "#### Qu'est-ce que la norme RIFF ?\n",
    "Avant de comprendre le fonctionnement d'un son de format WAV, il faut connaître le fonctionnement de la norme utilisée par ce dernier, la norme RIFF.\n",
    "La norme RIFF (*Resource Interchange File Format*, &laquo;Format de fichier d'échange de ressources&raquo;), définie par Microsoft et IBM en 1991, est une norme définissant ce qu'on appelle un format de fichier &laquo;conteneur&raquo; : il s'agit d'un format de fichier qui est capable de contenir plusieurs types de données différentes. On peut par exemple stocker dans un même fichier avec un format conteneur de l'image, de l'audio, des sous-titres, des métadonnées...\n",
    "\n",
    "Le RIFF est un format conteneur utilisant un système système de blocs de données, appelés *chunks*. Les chunks sont eux même divisés en plusieurs parties :\n",
    "* Partie `ckid` : il s'agit d'un identifiant 4 caractères (*FourCC*) permettant de repérer le format de données du *chunk*. Il occupe 4 octets (32 bits).\n",
    "* Partie `cksz` : nombre entier stocké sur 32 bits non-signé (positif ou nul, compris sur $[0; 2^{32}[$), indique la taille en bits de la partie `data` dont nous allons parler après.\n",
    "* Partie `data` : données contenues par le chunk. Taille indiqué par la partie `cksz`. On peut trouver à la fin de cette partie un bit nul, permettant de stocker des données de taille diverses sans pérturber la structure du fichier.\n",
    "\n",
    "<center>\n",
    "<figure>\n",
    "    <img alt=\"Organisation d'un chunk de la norme RIFF\" src=\"img/RIFF_Chunk.svg\" />\n",
    "    <figcaption>\n",
    "        Organisation d'un chunk de la norme RIFF.<br/>\n",
    "        Par Adrien Gesta-Fline — Travail personnel, CC BY-SA 4.0, <a href=\"https://commons.wikimedia.org/w/index.php?curid=60836496\">https://commons.wikimedia.org/w/index.php?curid=60836496</a>\n",
    "    </figcaption>\n",
    "</figure>\n",
    "</center>\n",
    "\n",
    "Un fichier suivant la norme RIFF possèdera tout d'abord un *chunk* principal (le *chunk* RIFF), comportant dans la partie `ckid` la valeur `RIFF` , dans la partie `cksz` la taille de chunk principal, qui aura, pour un fichier de $t$ bits, la valeur $t - 64$.\n",
    "Enfin dans la partie `data`, on trouvera d'abord l'identifiant *FourCC* du format de fichier utilisé (`WAVE` pour un fichier WAV par exemple), puis les données utiles du fichier, divisées en *chunks*. Il est a noter que seul le *chunk* RIFF peut contenir d'autres *chunks*.\n",
    "\n",
    "<center>\n",
    "<figure>\n",
    "    <img alt=\"Organisation d'un fichier RIFF.\" src=\"img/RIFF_File_Structure.svg\" />\n",
    "    <figcaption>\n",
    "       Organisation d'un fichier RIFF.<br/>\n",
    "       Par Adrien Gesta-Fline — Travail personnel, CC BY-SA 4.0, <a href=\"https://commons.wikimedia.org/w/index.php?curid=60835577\">https://commons.wikimedia.org/w/index.php?curid=60835577</a>\n",
    "    </figcaption>\n",
    "</figure>\n",
    "</center>\n",
    "\n",
    "La norme RIFF utilise pour les données un codage *little-endian* (traduit parfois par &laquo;petit-boutiste&raquo;), c'est à dire que les données sont codés de façon à ce que les bits de poids faible soient placés en premier : en outre, le chiffre 256 en binaire sera enregistré en *little-endian* `00000001`, alors qu'on le note usuellement `10000000`."
   ]
  },
  {
   "cell_type": "markdown",
   "metadata": {},
   "source": [
    "#### Qu'est-ce qu'un fichier WAV ?\n",
    "Un fichier WAV ou WAVE (*Waveform Audio File Format*) est un format de fichier conteneur destiné à contenir de l'audio, créé par Microsoft et IBM en 1991. Il suit, dans son architecture, la norme RIFF. Il est souvent considéré, à tort, comme un format de fichier audio non compressé, sans perte : en réalité, du fait de sa nature de format de fichier conteneur, il peut aussi bien contenir des sons non-compressés (PCM par exemple) que des formats compressés, sans pertes (FLAC par exemple) ou avec pertes (MP3 par exemple).\n",
    "Le format WAV est malgré tout fortement utilisé, car comme il s'agit d'un format conteneur, il est possible de créer des sons avec des fonctionnalités propres à des logiciels d'édition sans problèmes de compatibilité avec d'autres logiciels.\n",
    "\n",
    "##### En-tête du fichier WAV.\n",
    "Un fichier WAV contient, en son tout début, un en-tête contenant différentes informations sur le fichier. Ces informations sont défnies dans l'en-tête du *chunk* principal, ainsi que dans un sous-*chunk* dédié et dans l'en-tête du *chunk* contenant les données sonores :"
   ]
  },
  {
   "cell_type": "markdown",
   "metadata": {},
   "source": [
    "<table>\n",
    "    <thead>\n",
    "        <tr>\n",
    "            <th>Nom</th>\n",
    "            <th>Taille (octet)</th>\n",
    "            <th>Endian</th>\n",
    "            <th>Description</th>\n",
    "        </tr>\n",
    "    </thead>\n",
    "    <tbody>\n",
    "        <tr>\n",
    "            <th colspan=\"4\"><strong>Chunk RIFF (principal)</strong></th>\n",
    "        </tr>\n",
    "        <tr>\n",
    "            <td>ckid</td>\n",
    "            <td>4</td>\n",
    "            <td>big</td>\n",
    "            <td>Identifiant du chunk, ici <code>RIFF.</code></td>\n",
    "        </tr>\n",
    "        <tr>\n",
    "            <td>cksz</td>\n",
    "            <td>4</td>\n",
    "            <td>little</td>\n",
    "            <td>Taille chunk principal = taille du fichier - 8 octet.</td>\n",
    "        </tr>\n",
    "        <tr>\n",
    "            <td>format</td>\n",
    "            <td>4</td>\n",
    "            <td>big</td>\n",
    "            <td>Format du fichier, en quatre caractère, ici <code>WAVE</code>.</td>\n",
    "        </tr>\n",
    "        <tr>\n",
    "            <th colspan=\"4\">Premier sous-chunk, en-tête propre aux fichiers WAV.</th>\n",
    "        </tr>\n",
    "        <tr>\n",
    "            <td>ckid</td>\n",
    "            <td>4</td>\n",
    "            <td>big</td>\n",
    "            <td>Identifiant du chunk, ici <code>FMT </code>.</td>\n",
    "        </tr>\n",
    "        <tr>\n",
    "            <td>cksz</td>\n",
    "            <td>4</td>\n",
    "            <td>little</td>\n",
    "            <td>Taille du chunk, 8 octets, 16 pour PCM.</td>\n",
    "        </tr>\n",
    "        <tr>\n",
    "            <td>AudioFormat</td>\n",
    "            <td>2</td>\n",
    "            <td>little</td>\n",
    "            <td>Compression audio, 1 pour PCM.</td>\n",
    "        </tr>\n",
    "        <tr>\n",
    "            <td>NumChannels</td>\n",
    "            <td>2</td>\n",
    "            <td>little</td>\n",
    "            <td>Nombre de canaux audio utilisés, 1 en mono, 2 en stéréo.</td>\n",
    "        </tr>\n",
    "        <tr>\n",
    "            <td>SampleRate</td>\n",
    "            <td>4</td>\n",
    "            <td>little</td>\n",
    "            <td>Fréquence d'échantillonage.</td>\n",
    "        </tr>\n",
    "        <tr>\n",
    "            <td>ByteRate</td>\n",
    "            <td>4</td>\n",
    "            <td>little</td>\n",
    "            <td>Taille du chunk.</td>\n",
    "        </tr>\n",
    "        <tr>\n",
    "            <td>BlockAlign</td>\n",
    "            <td>2</td>\n",
    "            <td>little</td>\n",
    "            <td>Nombre d'octets par échantillon.</td>\n",
    "        </tr>\n",
    "        <tr>\n",
    "            <td>BitsPerChannel</td>\n",
    "            <td>2</td>\n",
    "            <td>little</td>\n",
    "            <td>Nombre de bits par canal.</td>\n",
    "        </tr>\n",
    "        <tr>\n",
    "            <th colspan=\"4\">Deuxième sous-chunk, données sonores</th>\n",
    "        </tr>\n",
    "        <tr>\n",
    "            <td>ckid</td>\n",
    "            <td>4</td>\n",
    "            <td>big</td>\n",
    "            <td>Identifiant du chunk, ici <code>data</code>.</td>\n",
    "        </tr>\n",
    "        <tr>\n",
    "            <td>cksz</td>\n",
    "            <td>4</td>\n",
    "            <td>little</td>\n",
    "            <td>Tailles des données, ici taille du fichier - 44.</td>\n",
    "        </tr>\n",
    "        <tr>\n",
    "            <td>datas</td>\n",
    "            <td>Taille du fichier - 44</td>\n",
    "            <td>little</td>\n",
    "            <td>Données sonores.</td>\n",
    "        </tr>\n",
    "    </tbody>\n",
    "</table>"
   ]
  },
  {
   "cell_type": "markdown",
   "metadata": {},
   "source": [
    "## 4. Synthétisation d'un son\n",
    "### Sons périodiques\n",
    "Un son périodique est un son dont l'onde se répète dans le temps. Il possède une période, durée entre deux répétitions, notée $T$, exprimée en secondes, et une longueur d'onde, distance entre deux répétitions, notée $\\lambda$, exprimée en m.\n",
    "On peut d'ailleurs, à partir de ces deux grandeurs, retrouver la vitesse de l'onde, qu'on notera $\\nu$, exprimée en $m \\cdot s^{-1}$, avec la formule : $$ \\nu = \\frac{\\lambda}{T}$$\n",
    "Une autre grandeur physique associée à un son périodique est la fréquence : notée $f$, exprimée en Hertz (Hz), elle correspond au nombre de périodes par secondes. On la trouve selon la relation suivante : $$f = \\frac{1}{T}$$\n",
    "### Son pur et son complexe.\n",
    "#### Son pur\n",
    "Un son pur est un son périodique dont l'onde est sinusoïdale : en tant que son périodique, on peut le définir en fonction de sa fréquence, mais il a aussi pour propriété d'avoir une amplitude régulière : l'amplitude. Elle correspond à la variation de pression de l'onde sonore. Plus l'amplitude est grande, plus le son nous paraît fort.\n",
    "##### Définition mathématique du son pur.\n",
    "La vibration d'un son pur de fréquence $f$, et d'amplitude $A$, peut être représenté mathématiquement en fonction du temps par une fonction $s(t)$ définie telle que : $$s(t) = A \\sin(2 \\pi f t)$$\n",
    "\n",
    "Si dessous, une application de visualisation interactive de l'onde :"
   ]
  },
  {
   "cell_type": "code",
   "execution_count": 2,
   "metadata": {},
   "outputs": [
    {
     "data": {
      "application/vnd.jupyter.widget-view+json": {
       "model_id": "9ae78bd759034209833d9ff59f6ab999",
       "version_major": 2,
       "version_minor": 0
      },
      "text/plain": [
       "interactive(children=(FloatSlider(value=1.0, description='Amplitude :', max=10.0), FloatSlider(value=1.0, desc…"
      ]
     },
     "metadata": {},
     "output_type": "display_data"
    },
    {
     "data": {
      "text/plain": [
       "<function __main__.showplot(amp, freq)>"
      ]
     },
     "execution_count": 2,
     "metadata": {},
     "output_type": "execute_result"
    }
   ],
   "source": [
    "# Imports\n",
    "from IPython.display import display\n",
    "import numpy as np\n",
    "import matplotlib.pyplot as plt\n",
    "import ipywidgets as ipw\n",
    "\n",
    "# Fonction d'affichage de la courbe.\n",
    "def showplot(amp, freq):\n",
    "    x = np.linspace(-10, 10, 1000)\n",
    "    plt.plot(x, amp * np.sin(x * 2 * np.pi * freq))\n",
    "\n",
    "# Création widgets\n",
    "amp = ipw.FloatSlider( # Slider amplitude\n",
    "    value = 1,\n",
    "    min = 0,\n",
    "    max = 10,\n",
    "    step = 0.1,\n",
    "    description = 'Amplitude :',\n",
    ")\n",
    "\n",
    "freq = ipw.FloatSlider( # Slider fréquence\n",
    "    value = 1,\n",
    "    min = 0,\n",
    "    max = 10,\n",
    "    step = 0.1,\n",
    "    description = 'Fréquence :'\n",
    ")\n",
    "\n",
    "# Affichage widgets\n",
    "\n",
    "ipw.interact(showplot, amp=amp, freq=freq)"
   ]
  },
  {
   "cell_type": "markdown",
   "metadata": {},
   "source": [
    "#### Son complexe\n",
    "Un son complexe est un son périodique dont le signal n'est pas en forme de courbe sinusoïdale. Il s'agit d'un signal en fait constitué de plusieurs sons purs, appelés harmoniques, de fréquences et d'amplitudes pouvant être différents. Les vibrations causés par les sons peuvent en plus être décalées dans le temps.\n",
    "Le son complexe possède ce qu'on appelle un fréquence fondamental, qui nest celle de l'harmonique ayant la plus basse fréquence.\n",
    "\n",
    "##### Définition mathématique des sons complexes\n",
    "###### Séries de Fourier\n",
    "Le mathématicien français Joseph Fourier (1768-1830) a démontré que tout signal périodique était la somme d'un nombre fini ou infini de signaux sinusoïdaux.\n",
    "\n",
    "Soit $g(t)$ fonction représentant la vibration de l'air définie sur $\\mathbb{R}$ par :\n",
    "$$g(t) = A \\sin(2 \\pi f \\times (t - \\phi))$$\n",
    "avec $A \\in \\mathbb{R}$, amplitude du son, $f \\in \\mathbb{R}$, fréquence du son en Hz.\n",
    "On constate la présence d'une paramètre $\\phi \\in \\mathbb{R}$, qui correspond à un décalage temporel en s : il sera utile dans la définition d'un son complexe.\n",
    "\n",
    "On considère maintenant un son complexe modélisé par une fonction constitué de $n \\in \\mathbb{N}$ harmoniques, un harmonique de rang $n$ étant modélisé par une fonction $h_n(t)$ définie sur $\\mathbb{R}$ :\n",
    "$$h_n(t) = A_n \\sin(2 \\pi f_n \\times (t - \\phi_n))$$, avec $A_n \\in \\mathbb{R}$, amplitude de l'harmonique $n$, $f_n \\in \\mathbb{R}$, fréquence de l'harmonique $n$ en Hz et $\\phi_n \\in \\mathbb{R}$, décalage temporel de l'harmonique $n$ en s.\n",
    "\n",
    "Le son complexe de $n$ harmoniques peut-être modélisé avec une fonction $s(t)$ sur $\\mathbb{R}$ en fonction du temps en secondes $t$ par :"
   ]
  },
  {
   "cell_type": "markdown",
   "metadata": {},
   "source": [
    "$$s(t) = \\sum_{k=1}^{n} {h_k(t)} = \\sum_{k=1}^{n} {A_k \\sin(2 \\pi f_k \\times (t - \\phi_k))} \\\\ = A_1 \\sin(2 \\pi f_1 \\times (t - \\phi_1)) + A_2 \\sin(2 \\pi f_2 \\times (t - \\phi_2)) + A_3 \\sin(2 \\pi f_3 \\times (t - \\phi_3)) + ... + A_n \\sin(2 \\pi f_n \\times (t - \\phi_n))$$"
   ]
  },
  {
   "cell_type": "markdown",
   "metadata": {},
   "source": [
    "On peut par exemple définir un son complexe constitué de 4 harmoniques d'amplitudes respectives $A_1 = 1$, $A_2 = 2$, $A_3 = 3$, $A_4 = 4$, de fréquences respectives $f_1 = 4$ Hz, $f_2 = 3$ Hz, $f_3 = 2$ Hz, $f_4 = 1$ Hz et de décalages temporels $\\phi_1 = 1$ s, $\\phi_2 = 1$ s, $\\phi_3 = 2$ s, $\\phi_4 = 3$ s.\n",
    "\n",
    "On aura donc, comme fonction représentant le signal sonore $s(t)$ :\n",
    "$$f(t) = \\sum_{k=1}^{4} h_k(t) = h_1(t) + h_2(t) + h_3(t) + h_4(t) \\\\ = A_1 \\sin(2 \\pi f_1 \\times (t - \\phi_1)) + A_2 \\sin(2 \\pi f_2 \\times (t - \\phi_2)) + a_3 \\sin(2 \\pi f_3 \\times (t - \\phi_3)) + A_4 \\sin(2 \\pi f_4 \\times (t - \\phi_4)) \\\\ = 1\\sin(2 \\pi 400 \\times (t - 1)) + 2 \\sin(2 \\pi 500 \\times (t - 2)) + 3 \\sin(2 \\pi 600 \\times (t - 3)) + 4 \\sin(2 \\pi 700 \\times (t - 3))$$\n",
    "Qui aura comme représentation :"
   ]
  },
  {
   "cell_type": "code",
   "execution_count": 8,
   "metadata": {},
   "outputs": [
    {
     "data": {
      "text/plain": [
       "[<matplotlib.lines.Line2D at 0x7f57f17670f0>]"
      ]
     },
     "execution_count": 8,
     "metadata": {},
     "output_type": "execute_result"
    },
    {
     "data": {
      "image/png": "[encoded data removed]",
      "text/plain": [
       "<Figure size 432x288 with 1 Axes>"
      ]
     },
     "metadata": {
      "needs_background": "light"
     },
     "output_type": "display_data"
    }
   ],
   "source": [
    "# Imports modules\n",
    "import numpy as np\n",
    "import matplotlib.pyplot as plt\n",
    "\n",
    "# Fonction signal\n",
    "def s(t):\n",
    "    result = 0\n",
    "    p = 2 * np.pi\n",
    "    amps = [1, 2, 3, 4]\n",
    "    freqs = [4, 3, 2, 1]\n",
    "    shifts = [1, 1, 2, 3]\n",
    "    for i in range(0, 4):\n",
    "        result += amps[i] * np.sin(p * freqs[i] * (t - shifts[i]))\n",
    "    return result\n",
    "\n",
    "# Affichage graphique\n",
    "t = np.linspace(-10, 10, 1000)\n",
    "plt.plot(t, s(t))"
   ]
  },
  {
   "cell_type": "markdown",
   "metadata": {},
   "source": [
    "Autres exemples notables de signaux:\n",
    "* Signal &laquo;en dent de scie&raquo; : résultat de la série de Fourier convergente (somme infinie de termes au résultat fini) :\n",
    "$$s(t)=\\sum_{n=1}^{+\\infty} {-A\\frac{2}{n\\pi}\\sin(2\\pi nft)}$$ avec $A \\in \\mathbb{R}$ amplitude du signal et $f \\in \\mathbb{R}$ fréquence du signal en Hz."
   ]
  },
  {
   "cell_type": "markdown",
   "metadata": {},
   "source": [
    "* Signal &laquo;carré&raquo; : résultat de la série de Fourier convergente (somme infinie de termes au résultat fini) :\n",
    "$$s(t) = \\sum_{n=1}^{+\\infty}{A \\frac{4}{(2n-1)\\pi} \\sin(2 \\pi f(2n-1)t)}$$ avec $A \\in \\mathbb{R}$ amplitude du signal et $f \\in \\mathbb{R}$ fréquence du signal en Hz."
   ]
  },
  {
   "cell_type": "markdown",
   "metadata": {},
   "source": [
    "### Application à la synthétisation d'un son.\n",
    "Partant du principe que tous les sons générés par un instrument de musique sont périodiques, on peut donc les modéliser selon une somme de signaux sinusoidaux. Si certains instruments, comme le diapason, émettent un son pur se résumant à un seul signal sinusoïdal, d'autres instruments génèrent des sons complexes qui sont plus difficiles à synthétiser.\n",
    "#### Codage du son\n",
    "On considère que l'on va coder sur $b$ bits un son complexe dont le signal en fonction du temps $t$ en secondes est modélisé par la fonction $s(t)$.\n",
    "Le fichier sonore aura une fréquence échantillonage noté $\\epsilon$, en Hz.\n",
    "Le $n$-ième échantillon du son aura comme valeur binaire :\n"
   ]
  },
  {
   "cell_type": "code",
   "execution_count": null,
   "metadata": {},
   "outputs": [],
   "source": []
  }
 ],
 "metadata": {
  "kernelspec": {
   "display_name": "Python 3",
   "language": "python",
   "name": "python3"
  },
  "language_info": {
   "codemirror_mode": {
    "name": "ipython",
    "version": 3
   },
   "file_extension": ".py",
   "mimetype": "text/x-python",
   "name": "python",
   "nbconvert_exporter": "python",
   "pygments_lexer": "ipython3",
   "version": "3.6.5"
  }
 },
 "nbformat": 4,
 "nbformat_minor": 2
}
