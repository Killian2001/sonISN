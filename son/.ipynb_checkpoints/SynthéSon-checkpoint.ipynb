{
 "cells": [
  {
   "cell_type": "markdown",
   "metadata": {},
   "source": [
    "# Synthétisation sonore\n",
    "## Présentation\n",
    "### But de l'application\n",
    "Application de synthétisation sonore. Permettera de synthétiser des sons complexes et de les exporter au format WAV.\n",
    "### Fonctionnement\n",
    "#### Programme de base\n",
    "L'utilisateur, *via* une interface graphique, pourra ajouter ou enlever des harmoniques, dont il pourra régler l'amplitude la fréquence, et le décalage temporel par curseur et saisie. Le tout sera prévisualisé graphiquement par une courbe sinusoïdale ou un graphe de Fourier (accessibles par onglet). Il pourra ensuite exporter le son en format WAV, dans le codage et l'échantillonage de son choix.\n",
    "### Interface\n",
    "\n",
    "![Interface du synthétiseur](img/interface_synthe.svg)\n",
    "\n",
    "### Architecture\n",
    "#### Architecture MVC\n",
    "L'application sera construite selon l'architecture MVC, qui divise le programme en 3 parties :\n",
    "* Le modèle : il stocke toutes les données nécessaire au programme.\n",
    "* La vue : il s'agit de la partie du programme qui est chargée de l'affichage des données à l'utilisateur (une fenêtre par exemple).\n",
    "* Le contrôleur : il sert de &laquo;pont&raquo; entre la vue et le modèle : toute information rentrée par l'utilisateur *via* la vue verra sa validité vérifiée par le contrôleur : si l'information est valide, le modèle est alors modifié, et le modèle informe la vue, qui se met alors à jour."
   ]
  },
  {
   "cell_type": "markdown",
   "metadata": {},
   "source": [
    "## Application\n",
    "\n",
    "### Contrôle des types\n",
    "Fonctions permettant de contrôler les types de données passés en paramètres."
   ]
  },
  {
   "cell_type": "code",
   "execution_count": 9,
   "metadata": {},
   "outputs": [],
   "source": [
    "def verifParamType(pName, waitType, pValue):\n",
    "    \"\"\"Contrôle le type d'un paramètre pName de valeur pValue, en vérifiant s'il s'agit\n",
    "    du même type que waitType ou si il en est dérivé.\n",
    "    Paramètre :\n",
    "        - pName (str) : nom du paramètre.\n",
    "        - waitType (type) : type de donnée attendu.\n",
    "        - pValue : valeur attendue.\n",
    "    Exceptions :\n",
    "        - TypeError : si les types de pName, waitType ou pValue ne sont pas les bons, \n",
    "        ou si le type de pValue ne correspond pas et n'est pas dérivé du type de pName.\"\"\"\n",
    "    \n",
    "    def raiseTypeError(pName, pType, wType):# Fonction facilitant la levée de la TypeError.\n",
    "        raise TypeError('Paramètre {0} de type {1}, type {2} attendu', pName, pType, wType)\n",
    "        \n",
    "    # Contrôle type paramètres.\n",
    "    pNType, wTType, pVType = type(pName), type(waitType), type(pValue)\n",
    "    if not pNType == str:\n",
    "        raiseTypeError('[verifParamType] pName', pNType, str)\n",
    "    if not wTType == type:\n",
    "        raiseTypeError('[verifParamType] waitType', wType, type)\n",
    "        \n",
    "    # Contrôle type valeur.\n",
    "    if not issubclass(pVType, waitType):\n",
    "        raise TypeError(pName, pVType, waitType)"
   ]
  },
  {
   "cell_type": "markdown",
   "metadata": {},
   "source": [
    "### Classes de bases\n",
    "#### Harmoniques\n",
    "Classe définissant un harmonique, avec son amplitude, sa fréquence et son décalage temporel."
   ]
  },
  {
   "cell_type": "code",
   "execution_count": 1,
   "metadata": {},
   "outputs": [],
   "source": [
    "class Harmonic:\n",
    "    \"\"\"Classe représentant un harmonique.\n",
    "    Un harmonique est défini par une amplitude, une fréquence et un décalage temporel.\"\"\"\n",
    "    \n",
    "    def __init__(self, amp, freq, shift):\n",
    "        \"\"\"Constructeur de la classe.\n",
    "        Paramètres :\n",
    "            - amp (float) : amplitude de l'harmonique.\n",
    "            - freq (float) : fréquence de l'harmonique.\n",
    "            - shift (float) : décalage temporel de l'harmonique.\"\"\"\n",
    "        self.amp = amp\n",
    "        self.freq = freq\n",
    "        self.shift = shift\n",
    "        \n",
    "    # ---- Accesseurs ----\n",
    "    \n",
    "    def _get_amp(self):\n",
    "        \"\"\"Accesseur de la propriété amp.\n",
    "        Retourne l'amplitude (float) de l'harmonique.\"\"\"\n",
    "        return self._amp\n",
    "    \n",
    "    def _get_freq(self):\n",
    "        \"\"\"Accesseur de la propriété freq.\n",
    "        Retourne la fréquence (float) de l'harmonique.\"\"\"\n",
    "        return self._freq\n",
    "    \n",
    "    def _get_shift(self):\n",
    "        \"\"\"Accesseur de la propriété shift.\n",
    "        Retourne le décalage temporel(float) de l'harmonique.\"\"\"\n",
    "        return self._shift\n",
    "    \n",
    "    # ---- Mutateurs ----\n",
    "    \n",
    "    def _set_amp(self, amp):\n",
    "        \"\"\"Mutateur de la propriété amp.\n",
    "        Modifie l'amplitude de l'harmonique.\n",
    "        Paramètres :\n",
    "            - amp (float) : nouvelle amplitude de l'harmonique.\"\"\"\n",
    "        verifParamType('amp', float, amp)\n",
    "        self._amp = amp\n",
    "        \n",
    "    def _set_freq(self, freq):\n",
    "        \"\"\"Mutateur de la propriété freq.\n",
    "        Modifie la fréquence de l'harmonique.\n",
    "        Paramètres :\n",
    "            - freq (float) : nouvelle fréquence de l'harmonique.\"\"\"\n",
    "        verifParamType('freq', float, freq)\n",
    "        self._freq = freq\n",
    "        \n",
    "    def _set_shift(self, shift):\n",
    "        \"\"\"Mutateur de la propriété shift.\n",
    "        Modifie le décalage temporel de l'harmonique.\n",
    "        Paramètres :\n",
    "            - shift (float) : nouveau décalage temporel de l'harmonique.\"\"\"\n",
    "        verifParamType('shift', float, shift)\n",
    "        self._shift = shift\n",
    "        \n",
    "    # ---- Propriétés ----\n",
    "    \n",
    "    amp = property(_get_amp, _set_amp)\n",
    "    freq = property(_get_freq, _set_freq)\n",
    "    shift = property(_get_shift, _set_shift)"
   ]
  },
  {
   "cell_type": "markdown",
   "metadata": {},
   "source": [
    "## Le modèle\n",
    "### Architecture Observateur-Observable\n",
    "#### Principe de base\n",
    "L'architecture Observateur-Observable définit deux classes d'objets : les observateurs et les observeurs. Les observables, tout d'abord, sont capable d'être &laquo;suivis&raquo; par plusieurs observeurs, l'observable étant en général un objet contenant des informations pouvant être lues à tout moment, et les observateurs des objets dont le fonctionnement dépend de ces informations, et qui doivent donc être régulièrement mis à jour. En cas de modification de ces informations, les observables sont capable de notifier les observateurs les &laquo;suivant&raquo;, permettant la remise à jour de ceux-çi. Les observateurs suivent des processus de mise à jour qui varient selon leur fonction.\n",
    "\n",
    "Ici, les objets observateurs seront dérivés de la classe `Observer`, et les objets observables de la classe `Observable`.\n",
    "\n",
    "#### Rôle dans le pattern MVC\n",
    "Le modèle contient toutes les informations nécessaire au programme, qui seront ensuite affichées sur la vue. Les informations du modèle peuvent être modifiées à tout moment, la vue doit être donc mise à jour à tout moment.\n",
    "Le modèle contient toutes les informations du programme, **c'est donc lui l'observable**.\n",
    "La vue doit être remise à jour à chaque modification du modèle, **elle est donc observateur de celui-ci**.\n",
    "\n",
    "#### Classe Observer\n",
    "La classe Observer correpond à un observateur, qui doit se remettre à jour. Elle contient donc une méthode (fonction) de remise à jour, nommée `update`, pouvant accepter en paramètre des informations nécessaires à la remise à jour."
   ]
  },
  {
   "cell_type": "code",
   "execution_count": 2,
   "metadata": {},
   "outputs": [],
   "source": [
    "class Observer:\n",
    "    \"\"\"Classe servant de base aux objets observateurs du programme (objets observant les modèles).\"\"\"\n",
    "\n",
    "    def __init__(self):\n",
    "        \"\"\"Constructeur de la classe.\"\"\"\n",
    "        raise NotImplementedError('La classe Observer ne peut être instanciée telle quelle.')\n",
    "\n",
    "    # ---- Méthodes de classe ----\n",
    "\n",
    "    def update(self, obj):\n",
    "        \"\"\"Méthode de mise à jour de l'observateur.\n",
    "        Les informations nécessaires à la mise à jour sont données en paramètre obj.\n",
    "        Paramètres :\n",
    "            - obj : Informations nécessaires à la mise à jour.\"\"\"\n",
    "        raise NotImplementedError(\"La méthode update n'est pas implémentée.\")\n"
   ]
  },
  {
   "cell_type": "markdown",
   "metadata": {},
   "source": [
    "**Remarque** : la méthode `update` lance une `NotImplementedError`, signifiant qu'elle n'est pas implémentée, c'est à dire définie : en effet, le processus de mise à jour d'un objet observateur peut différer de celui d'un autre objet observateur. La méthode est donc implémentée (définie) dans l'objet observateur en lui-même, en fonction du besoin."
   ]
  },
  {
   "cell_type": "markdown",
   "metadata": {},
   "source": [
    "#### Observable\n",
    "L'observable doit être capable :\n",
    "* d'accepter des observateurs.\n",
    "* de supprimer des observateurs.\n",
    "* de notifier les observateurs d'un changement.\n",
    "\n",
    "On définira donc :\n",
    "* une méthode `addObserver`, demandant en paramètre un objet observateur, permettant d'ajouter à l'objet observable un observateur.\n",
    "* une méthode `removeObserver`, demandant en paramètre un objet observateur, supprimant l'observable passé en paramètre.\n",
    "* une méthode `notify`, demandant en paramètre un objet contenant des informations, qui notifiera tous les objets d'un changement de l'objet observable. L'objet d'information passé en paramètre sera transmis aux observeurs, par leur méthode `update`."
   ]
  },
  {
   "cell_type": "code",
   "execution_count": 3,
   "metadata": {},
   "outputs": [],
   "source": [
    "class Observable:\n",
    "    \"\"\"Classe servant de base aux objets modèles du programme.\"\"\"\n",
    "    def __init__(self):\n",
    "        \"\"\"Constructeur de la classe.\"\"\"\n",
    "        self._observers = []\n",
    "\n",
    "    # ---- Méthodes de classe ----\n",
    "\n",
    "    def addObserver(self, obs):\n",
    "        \"\"\"Ajoute un objet observateur à l'objet observable.\n",
    "        Paramètres:\n",
    "            - obs (Observer) : observateur à ajouter.\"\"\"\n",
    "        verifParamType('obs', obs, Observer)\n",
    "        self._observers.append(obs)\n",
    "\n",
    "    def removeObserver(self, obs):\n",
    "        \"\"\"Supprime un objet observateur de l'objet observable.\n",
    "        Paramètres:\n",
    "            obs: observateur à supprimer.\"\"\"\n",
    "        self._observers.remove(obs)\n",
    "\n",
    "    def notify(self, obj):\n",
    "        \"\"\"Notifie l'objet observable d'un changement.\n",
    "        L'objet contenant les informations nécessaires à l'observateur est spécifié en paramètre.\n",
    "        Paramètres:\n",
    "            obj: objet contenant les informations nécessaires à l'observateur.\"\"\"\n",
    "        for o in self._observers:\n",
    "            o.update(obj)"
   ]
  },
  {
   "cell_type": "markdown",
   "metadata": {},
   "source": [
    "### Définition du modèle\n",
    "Le modèle devra contenir les information affichées par la vue, qui se résume simplement aux harmoniques définis par l'utilisateur. On définira donc un objet `Model`, observable donc dérivé de la classe `Observable`."
   ]
  },
  {
   "cell_type": "code",
   "execution_count": null,
   "metadata": {},
   "outputs": [],
   "source": []
  }
 ],
 "metadata": {
  "kernelspec": {
   "display_name": "Python 3",
   "language": "python",
   "name": "python3"
  },
  "language_info": {
   "codemirror_mode": {
    "name": "ipython",
    "version": 3
   },
   "file_extension": ".py",
   "mimetype": "text/x-python",
   "name": "python",
   "nbconvert_exporter": "python",
   "pygments_lexer": "ipython3",
   "version": "3.6.5"
  }
 },
 "nbformat": 4,
 "nbformat_minor": 2
}
