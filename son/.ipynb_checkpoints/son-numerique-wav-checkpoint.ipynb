{
 "cells": [
  {
   "cell_type": "markdown",
   "metadata": {},
   "source": [
    "# Le son numérique : format non compressé WAV.\n",
    "\n",
    "## Comment code-t-on un son ?\n",
    "\n",
    "Les sons sont caractérisés par des grandeurs physiques, qui peuvent prendre une infinité de valeurs. Or un ordinateur fonctionne avec des grandeurs numériques, qui prennent elles un nombre limité de valeurs entières. Il faut donc convertir les sons enregistrés, qui sont analogiques, en sons numériques : on doit donc avoir recours à la Conversion Analogique-Numérique, abrégé **CAN** (en anglais **ANC**).\n",
    "\n",
    "Ce moyen de conversion est basé sur les travaux de l'ingénieur et mathématicien Claude Elwood Shannon (1916-2001). Ce mathématicien a tout simplement défini, dans son article *A Mathematical Theory of Communication* (&laquo;Une théorie mathématique de la communication.&raquo;). Il y introduit notamment la notion de *bit* (*Binary Digit*, &laquo;chiffre binaire&raquo;), brique de base du codage de l'information, une valeur numérique pouvant prendre deux états : 0 ou 1. Ainsi, on prendra 1 bit pour une information prenant deux états, 2 bits pour un information pouvant prendre 4 états...\n",
    "\n",
    "Le codage se fait sur un certain nombre de bits, en général des puissances de 2 : 8 bits, 16 bits, 32 bits...\n",
    "\n",
    "Ainsi, un signal analogique codé sur $n$ bits pourra avoir $2^n$ valeurs différentes.\n",
    "\n",
    "En général, les signaux sont stockés sur $n$ bits dit &laquo;non signés&raquo; : dans ce cas les valeurs des signaux sont toujours positives et sont comprises dans l'intervalle d'entiers $[0; 2^n[$.\n",
    "\n",
    "ans le cas d'un son, le signal codé correspond à une impulsion électrique envoyé par le micro à l'enregistrement, ou à une impulsion électrique envoyé au matériel audio (enceinte par exemple). Cette impulsion pourra donc prendre, pour un son codé sur $n$ bits, $2^n$ niveaux différents. Ainsi, un son 8 bits proposera des impulsions de $2^8 = 256$ niveaux.\n",
    "\n",
    "Cependant, un son numérique ne peut se réduire qu'à un niveau électrique : il s'agit d'une suite d'impulsions électriques, évoluant à travers le temps. Il faut donc établir la fréquence d'envoi des impulsions électriques : on parle d'**échantillonnage** du son, exprimé en Hz. Un son ayant un échantillonage $e$ Hz fournira $e$ impulsions électriques par seconde. Un échantillonnage courant est l'échantillonnage de 44100 Hz : il y aura donc 44100 impulsions électriques par secondes qui seront fournies par le son."
   ]
  },
  {
   "cell_type": "markdown",
   "metadata": {},
   "source": [
    "### Son non-compressé et compressé : quelle différence ?\n",
    "\n",
    "La technique de stockage que l'on vient de voir précédemment correspond à celle du son non-compressé : le son enregistré est lu par l'ordinateur et est restitué tel quel.\n",
    "\n",
    "Cependant, le stockage d'autant de données peut prendre beaucoup de place, surtout si le son est codé sur un grand nombre de bits.\n",
    "\n",
    "C'est pourquoi on a mis au point ce qu'on appelle le son compressé. Nous ne rentrerons pas dans les détails de cette technique, mais elle consiste à coder le son de façon à ce qu'il soit moins lourd, en &laquo;abrégeant&raquo; certaines parties du son. À la lecture, un logiciel adapté &laquo;décompressera&raquo; le son afin de le rendre lisible par l'ordinateur. L'inconvénient de cette technique est que la qualité du son peut être altérée, si la compression est dite &laquo;irréversible&raquo;, car il y aura des pertes de données, sinon on dira que la compression est &laquo;réversible&raquo;.\n",
    "\n",
    "Cette technique demande aussi plus de calcul à l'ordinateur pour lire le son, à cause de la décompression. Cela cette charge de calcul supplémentaire peut être embêtante dans certain cas, comme le jeu vidéo, qui demande déjà des calculs complexes à l'ordinateur (lumière, modèles 3D, physique, affichage graphique...)."
   ]
  },
  {
   "cell_type": "markdown",
   "metadata": {},
   "source": [
    "### Le format WAV et la norme RIFF\n",
    "#### Qu'est-ce que la norme RIFF ?\n",
    "Avant de comprendre le fonctionnement d'un son de format WAV, il faut connaître le fonctionnement de la norme utilisée par ce dernier, la norme RIFF.\n",
    "La norme RIFF (*Resource Interchange File Format*, &laquo;Format de fichier d'échange de ressources&raquo;), définie par Microsoft et IBM en 1991, est une norme définissant ce qu'on appelle un format de fichier &laquo;conteneur&raquo; : il s'agit d'un format de fichier qui est capable de contenir plusieurs types de données différentes. On peut par exemple stocker dans un même fichier avec un format conteneur de l'image, de l'audio, des sous-titres, des métadonnées...\n",
    "\n",
    "Le RIFF est un format conteneur utilisant un système système de blocs de données, appelés *chunks*. Les chunks sont eux même divisés en plusieurs parties :\n",
    "* Partie `ckid` : il s'agit d'un identifiant 4 caractères (*FourCC*) permettant de repérer le format de données du *chunk*. Il occupe 4 octets (32 bits).\n",
    "* Partie `cksz` : nombre entier stocké sur 32 bits non-signé (positif ou nul, compris sur $[0; 2^{32}[$), indique la taille en bits de la partie `data` dont nous allons parler après.\n",
    "* Partie `data` : données contenues par le chunk. Taille indiqué par la partie `cksz`. On peut trouver à la fin de cette partie un bit nul, permettant de stocker des données de taille diverses sans pérturber la structure du fichier.\n",
    "\n",
    "<center>\n",
    "<figure>\n",
    "    <img alt=\"Organisation d'un chunk de la norme RIFF\" src=\"img/RIFF_Chunk.svg\" />\n",
    "    <figcaption>\n",
    "        Organisation d'un chunk de la norme RIFF.<br/>\n",
    "        Par Adrien Gesta-Fline — Travail personnel, CC BY-SA 4.0, <a href=\"https://commons.wikimedia.org/w/index.php?curid=60836496\">https://commons.wikimedia.org/w/index.php?curid=60836496</a>\n",
    "    </figcaption>\n",
    "</figure>\n",
    "</center>\n",
    "\n",
    "Un fichier suivant la norme RIFF possèdera tout d'abord un *chunk* principal (le *chunk* RIFF), comportant dans la partie `ckid` la valeur `RIFF` , dans la partie `cksz` la taille de chunk principal, qui aura, pour un fichier de $t$ bits, la valeur $t - 64$.\n",
    "Enfin dans la partie `data`, on trouvera d'abord l'identifiant *FourCC* du format de fichier utilisé (`WAVE` pour un fichier WAV par exemple), puis les données utiles du fichier, divisées en *chunks*. Il est a noter que seul le *chunk* RIFF peut contenir d'autres *chunks*.\n",
    "\n",
    "<center>\n",
    "    <figure>\n",
    "        <img alt=\"Organisation d'un fichier RIFF.\" src=\"img/RIFF_File_Structure.svg\" />\n",
    "        <figcaption>\n",
    "           Organisation d'un fichier RIFF.<br/>\n",
    "           Par Adrien Gesta-Fline — Travail personnel, CC BY-SA 4.0, <a href=\"https://commons.wikimedia.org/w/index.php?curid=60835577\">https://commons.wikimedia.org/w/index.php?curid=60835577</a>\n",
    "        </figcaption>\n",
    "    </figure>\n",
    "</center>\n",
    "\n",
    "La norme RIFF utilise pour certaines données un codage *little-endian* (traduit parfois par &laquo;petit-boutiste&raquo;), c'est à dire que les données sont codés de façon à ce que les bits de poids faible soient placés en premier : en outre, le chiffre 256 en binaire sera enregistré en *little-endian* `00000001`, alors qu'on le note usuellement `10000000`."
   ]
  },
  {
   "cell_type": "code",
   "execution_count": null,
   "metadata": {},
   "outputs": [],
   "source": []
  }
 ],
 "metadata": {
  "kernelspec": {
   "display_name": "Python 3",
   "language": "python",
   "name": "python3"
  },
  "language_info": {
   "codemirror_mode": {
    "name": "ipython",
    "version": 3
   },
   "file_extension": ".py",
   "mimetype": "text/x-python",
   "name": "python",
   "nbconvert_exporter": "python",
   "pygments_lexer": "ipython3",
   "version": "3.6.5"
  }
 },
 "nbformat": 4,
 "nbformat_minor": 2
}
